{
 "cells": [
  {
   "cell_type": "markdown",
   "metadata": {},
   "source": [
    "# Información útil"
   ]
  },
  {
   "cell_type": "code",
   "execution_count": 3,
   "metadata": {},
   "outputs": [],
   "source": [
    "import pandas as pd\n",
    "import numpy as np\n",
    "\n",
    "main = pd.read_csv('data/data.txt', delimiter=':')"
   ]
  },
  {
   "cell_type": "markdown",
   "metadata": {},
   "source": [
    "Me interesa saber si los ID de los repos y users están ordenados y completos. Si eso pasa, no es necesario hacer un mapeo de ID a coordenada en un array de datos. Esto nos interesa porque queremos reconocer un user o repo según su posición en una lista."
   ]
  },
  {
   "cell_type": "code",
   "execution_count": 14,
   "metadata": {},
   "outputs": [],
   "source": [
    "def agujeros(grupo, printear=True):\n",
    "    \n",
    "    ID = list(set(main[grupo]))\n",
    "    fake = list()\n",
    "    \n",
    "    j = 0\n",
    "    for i in range(ID[-1]):\n",
    "        if i != ID[j]:\n",
    "            fake.append(i)\n",
    "            j -= 1\n",
    "        j += 1\n",
    "    \n",
    "    print('agujeros ' + grupo + ': ', len(fake))\n",
    "    \n",
    "    if printear == True:\n",
    "        print('ID inexistentes: ', fake)   "
   ]
  },
  {
   "cell_type": "markdown",
   "metadata": {},
   "source": [
    "## Usuarios"
   ]
  },
  {
   "cell_type": "code",
   "execution_count": 15,
   "metadata": {},
   "outputs": [
    {
     "data": {
      "text/plain": [
       "56519"
      ]
     },
     "execution_count": 15,
     "metadata": {},
     "output_type": "execute_result"
    }
   ],
   "source": [
    "users = set(main['user'])\n",
    "len(users)"
   ]
  },
  {
   "cell_type": "code",
   "execution_count": 16,
   "metadata": {},
   "outputs": [
    {
     "name": "stdout",
     "output_type": "stream",
     "text": [
      "agujeros user:  36\n",
      "ID inexistentes:  [0, 2486, 10144, 13232, 14417, 17342, 18627, 20677, 23883, 24657, 25504, 26024, 26734, 27738, 29382, 29432, 29780, 29945, 31948, 37546, 39874, 40166, 41432, 42335, 42736, 46013, 46593, 47542, 48063, 48267, 48670, 50423, 52917, 55108, 55761, 56242]\n"
     ]
    }
   ],
   "source": [
    "agujeros('user')"
   ]
  },
  {
   "cell_type": "markdown",
   "metadata": {},
   "source": [
    "## Repositorios"
   ]
  },
  {
   "cell_type": "code",
   "execution_count": 17,
   "metadata": {},
   "outputs": [
    {
     "data": {
      "text/plain": [
       "120867"
      ]
     },
     "execution_count": 17,
     "metadata": {},
     "output_type": "execute_result"
    }
   ],
   "source": [
    "users = set(main['repo'])\n",
    "len(users)"
   ]
  },
  {
   "cell_type": "code",
   "execution_count": 18,
   "metadata": {
    "scrolled": false
   },
   "outputs": [
    {
     "name": "stdout",
     "output_type": "stream",
     "text": [
      "agujeros repo:  2478\n"
     ]
    }
   ],
   "source": [
    "agujeros('repo', printear=False)"
   ]
  },
  {
   "cell_type": "markdown",
   "metadata": {},
   "source": [
    "Para hacer nuestro código más robusto y confiable vamos a hacer una transformación ID - índice. Ver el programa `mapeo.py`."
   ]
  },
  {
   "cell_type": "markdown",
   "metadata": {},
   "source": [
    "# Caracterización"
   ]
  },
  {
   "cell_type": "markdown",
   "metadata": {},
   "source": [
    "### Red de usuarios - Dirigida"
   ]
  },
  {
   "cell_type": "code",
   "execution_count": 6,
   "metadata": {},
   "outputs": [],
   "source": [
    "import igraph as ig\n",
    "import numpy as np "
   ]
  },
  {
   "cell_type": "code",
   "execution_count": 6,
   "metadata": {},
   "outputs": [],
   "source": [
    "#Cargo la red\n",
    "\n",
    "udg = ig.read(r'C:\\Users\\ailin\\Documents\\Grafosnoe\\users-directed.gml') "
   ]
  },
  {
   "cell_type": "code",
   "execution_count": null,
   "metadata": {},
   "outputs": [],
   "source": [
    "#Calculo grados, pesos, densidad y transitividad\n",
    "deg = udg.degree()\n",
    "weights = [udg.es[n]['weight'] for n in range(udg.ecount())]\n",
    "densidad = udg.ecount()/(udg.vcount()*(udg.vcount()-1)/2)\n",
    "clustg = udg.transitivity_avglocal_undirected(weights=weights)\n",
    "print('Caracerísticas estructurales')\n",
    "print('Nodos:', udg.vcount(),'Edges:', udg.ecount())\n",
    "print('k medio:', np.mean(deg), 'kmax:', max(deg), 'kmin:', min(deg))\n",
    "print('Densidad:', densidad)\n",
    "print('Average weight:',np.average(weights))\n",
    "print('Transitividad:', clustg)"
   ]
  },
  {
   "cell_type": "markdown",
   "metadata": {},
   "source": [
    "### Red de repositorios - Dirigida"
   ]
  },
  {
   "cell_type": "code",
   "execution_count": 4,
   "metadata": {},
   "outputs": [],
   "source": [
    "rdg = ig.read(r'C:\\Users\\ailin\\Documents\\Grafosnoe\\repos-directed.gml') "
   ]
  },
  {
   "cell_type": "code",
   "execution_count": 5,
   "metadata": {},
   "outputs": [
    {
     "name": "stdout",
     "output_type": "stream",
     "text": [
      "Caracerísticas estructurales - Red de repos dirigida\n",
      "Nodos: 120867 Edges: 22116362\n"
     ]
    },
    {
     "ename": "NameError",
     "evalue": "name 'np' is not defined",
     "output_type": "error",
     "traceback": [
      "\u001b[1;31m---------------------------------------------------------------------------\u001b[0m",
      "\u001b[1;31mNameError\u001b[0m                                 Traceback (most recent call last)",
      "\u001b[1;32m<ipython-input-5-9c18cbf19f38>\u001b[0m in \u001b[0;36m<module>\u001b[1;34m()\u001b[0m\n\u001b[0;32m      6\u001b[0m \u001b[0mprint\u001b[0m\u001b[1;33m(\u001b[0m\u001b[1;34m'Caracerísticas estructurales - Red de repos dirigida'\u001b[0m\u001b[1;33m)\u001b[0m\u001b[1;33m\u001b[0m\u001b[0m\n\u001b[0;32m      7\u001b[0m \u001b[0mprint\u001b[0m\u001b[1;33m(\u001b[0m\u001b[1;34m'Nodos:'\u001b[0m\u001b[1;33m,\u001b[0m \u001b[0mrdg\u001b[0m\u001b[1;33m.\u001b[0m\u001b[0mvcount\u001b[0m\u001b[1;33m(\u001b[0m\u001b[1;33m)\u001b[0m\u001b[1;33m,\u001b[0m\u001b[1;34m'Edges:'\u001b[0m\u001b[1;33m,\u001b[0m \u001b[0mrdg\u001b[0m\u001b[1;33m.\u001b[0m\u001b[0mecount\u001b[0m\u001b[1;33m(\u001b[0m\u001b[1;33m)\u001b[0m\u001b[1;33m)\u001b[0m\u001b[1;33m\u001b[0m\u001b[0m\n\u001b[1;32m----> 8\u001b[1;33m \u001b[0mprint\u001b[0m\u001b[1;33m(\u001b[0m\u001b[1;34m'k medio:'\u001b[0m\u001b[1;33m,\u001b[0m \u001b[0mnp\u001b[0m\u001b[1;33m.\u001b[0m\u001b[0mmean\u001b[0m\u001b[1;33m(\u001b[0m\u001b[0mrdeg\u001b[0m\u001b[1;33m)\u001b[0m\u001b[1;33m,\u001b[0m \u001b[1;34m'kmax:'\u001b[0m\u001b[1;33m,\u001b[0m \u001b[0mmax\u001b[0m\u001b[1;33m(\u001b[0m\u001b[0mrdeg\u001b[0m\u001b[1;33m)\u001b[0m\u001b[1;33m,\u001b[0m \u001b[1;34m'kmin:'\u001b[0m\u001b[1;33m,\u001b[0m \u001b[0mmin\u001b[0m\u001b[1;33m(\u001b[0m\u001b[0mrdeg\u001b[0m\u001b[1;33m)\u001b[0m\u001b[1;33m)\u001b[0m\u001b[1;33m\u001b[0m\u001b[0m\n\u001b[0m\u001b[0;32m      9\u001b[0m \u001b[0mprint\u001b[0m\u001b[1;33m(\u001b[0m\u001b[1;34m'Densidad:'\u001b[0m\u001b[1;33m,\u001b[0m \u001b[0mrdensidad\u001b[0m\u001b[1;33m)\u001b[0m\u001b[1;33m\u001b[0m\u001b[0m\n\u001b[0;32m     10\u001b[0m \u001b[0mprint\u001b[0m\u001b[1;33m(\u001b[0m\u001b[1;34m'Average weight:'\u001b[0m\u001b[1;33m,\u001b[0m\u001b[0mnp\u001b[0m\u001b[1;33m.\u001b[0m\u001b[0maverage\u001b[0m\u001b[1;33m(\u001b[0m\u001b[0mrweights\u001b[0m\u001b[1;33m)\u001b[0m\u001b[1;33m)\u001b[0m\u001b[1;33m\u001b[0m\u001b[0m\n",
      "\u001b[1;31mNameError\u001b[0m: name 'np' is not defined"
     ]
    }
   ],
   "source": [
    "#Calculo grados, pesos, densidad y transitividad\n",
    "rdeg = rdg.degree()\n",
    "rweights = [rdg.es[n]['weight'] for n in range(rdg.ecount())]\n",
    "rdensidad = rdg.ecount()/(rdg.vcount()*(rdg.vcount()-1)/2)\n",
    "rclustg = rdg.transitivity_avglocal_undirected(weights=rweights)"
   ]
  },
  {
   "cell_type": "code",
   "execution_count": 7,
   "metadata": {},
   "outputs": [
    {
     "name": "stdout",
     "output_type": "stream",
     "text": [
      "Caracerísticas estructurales - Red de repos dirigida\n",
      "Nodos: 120867 Edges: 22116362\n",
      "k medio: 365.9619581854435 kmax: 59298 kmin: 0\n",
      "Densidad: 0.0030278321296761993\n",
      "Average weight: 0.004225333808870526\n",
      "Transitividad: nan\n"
     ]
    }
   ],
   "source": [
    "print('Caracerísticas estructurales - Red de repos dirigida')\n",
    "print('Nodos:', rdg.vcount(),'Edges:', rdg.ecount())\n",
    "print('k medio:', np.mean(rdeg), 'kmax:', max(rdeg), 'kmin:', min(rdeg))\n",
    "print('Densidad:', rdensidad)\n",
    "print('Average weight:',np.average(rweights))\n",
    "print('Transitividad:', rclustg)"
   ]
  },
  {
   "cell_type": "code",
   "execution_count": 9,
   "metadata": {},
   "outputs": [
    {
     "data": {
      "text/plain": [
       "float"
      ]
     },
     "execution_count": 9,
     "metadata": {},
     "output_type": "execute_result"
    }
   ],
   "source": []
  }
 ],
 "metadata": {
  "kernelspec": {
   "display_name": "Python 3",
   "language": "python",
   "name": "python3"
  },
  "language_info": {
   "codemirror_mode": {
    "name": "ipython",
    "version": 3
   },
   "file_extension": ".py",
   "mimetype": "text/x-python",
   "name": "python",
   "nbconvert_exporter": "python",
   "pygments_lexer": "ipython3",
   "version": "3.7.0"
  }
 },
 "nbformat": 4,
 "nbformat_minor": 2
}

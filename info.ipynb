{
 "cells": [
  {
   "cell_type": "markdown",
   "metadata": {},
   "source": [
    "# Información útil"
   ]
  },
  {
   "cell_type": "code",
   "execution_count": 1,
   "metadata": {},
   "outputs": [],
   "source": [
    "import pandas as pd\n",
    "import numpy as np\n",
    "\n",
    "main = pd.read_csv('data/data.txt', delimiter=':')"
   ]
  },
  {
   "cell_type": "markdown",
   "metadata": {},
   "source": [
    "Me interesa saber si los ID de los repos y users están ordenados y completos. Si eso pasa, no es necesario hacer un mapeo de ID a coordenada en un array de datos. Esto nos interesa porque queremos reconocer un user o repo según su posición en una lista."
   ]
  },
  {
   "cell_type": "code",
   "execution_count": 9,
   "metadata": {},
   "outputs": [],
   "source": [
    "def agujeros(grupo, printear=True):\n",
    "    \n",
    "    users = list(set(main[grupo]))\n",
    "    fake = list()\n",
    "    \n",
    "    j = 0\n",
    "    for i in range(users[-1]):\n",
    "        if i != users[j]:\n",
    "            fake.append(i)\n",
    "            j -= 1\n",
    "        j += 1\n",
    "    \n",
    "    print('agujeros ' + grupo + ': ', len(fake))\n",
    "    \n",
    "    if printear == True:\n",
    "        print('ID inexistentes: ', fake)   "
   ]
  },
  {
   "cell_type": "markdown",
   "metadata": {},
   "source": [
    "## Usuarios"
   ]
  },
  {
   "cell_type": "code",
   "execution_count": 3,
   "metadata": {},
   "outputs": [
    {
     "data": {
      "text/plain": [
       "56519"
      ]
     },
     "execution_count": 3,
     "metadata": {},
     "output_type": "execute_result"
    }
   ],
   "source": [
    "users = set(main['user'])\n",
    "len(users)"
   ]
  },
  {
   "cell_type": "code",
   "execution_count": 5,
   "metadata": {},
   "outputs": [
    {
     "name": "stdout",
     "output_type": "stream",
     "text": [
      "agujeros user:  36\n",
      "ID inexistentes:  [0, 2486, 10144, 13232, 14417, 17342, 18627, 20677, 23883, 24657, 25504, 26024, 26734, 27738, 29382, 29432, 29780, 29945, 31948, 37546, 39874, 40166, 41432, 42335, 42736, 46013, 46593, 47542, 48063, 48267, 48670, 50423, 52917, 55108, 55761, 56242]\n"
     ]
    }
   ],
   "source": [
    "agujeros('user')"
   ]
  },
  {
   "cell_type": "markdown",
   "metadata": {},
   "source": [
    "## Repositorios"
   ]
  },
  {
   "cell_type": "code",
   "execution_count": 6,
   "metadata": {},
   "outputs": [
    {
     "data": {
      "text/plain": [
       "120867"
      ]
     },
     "execution_count": 6,
     "metadata": {},
     "output_type": "execute_result"
    }
   ],
   "source": [
    "users = set(main['repo'])\n",
    "len(users)"
   ]
  },
  {
   "cell_type": "code",
   "execution_count": 10,
   "metadata": {
    "scrolled": false
   },
   "outputs": [
    {
     "name": "stdout",
     "output_type": "stream",
     "text": [
      "agujeros repo:  2478\n"
     ]
    }
   ],
   "source": [
    "agujeros('repo', printear=False)"
   ]
  },
  {
   "cell_type": "markdown",
   "metadata": {},
   "source": [
    "Los agujeros son un 2% en los repos y un 0.06% en los users. Por el momento, usamos el ID de cada uno como su posición en un array."
   ]
  },
  {
   "cell_type": "code",
   "execution_count": null,
   "metadata": {},
   "outputs": [],
   "source": []
  }
 ],
 "metadata": {
  "kernelspec": {
   "display_name": "Python 3",
   "language": "python",
   "name": "python3"
  },
  "language_info": {
   "codemirror_mode": {
    "name": "ipython",
    "version": 3
   },
   "file_extension": ".py",
   "mimetype": "text/x-python",
   "name": "python",
   "nbconvert_exporter": "python",
   "pygments_lexer": "ipython3",
   "version": "3.6.6"
  }
 },
 "nbformat": 4,
 "nbformat_minor": 2
}
